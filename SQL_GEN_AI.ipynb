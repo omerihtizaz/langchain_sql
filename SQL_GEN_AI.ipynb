{
 "cells": [
  {
   "cell_type": "code",
   "execution_count": 2,
   "metadata": {},
   "outputs": [],
   "source": [
    "import pandas as pd\n",
    "import sqlite3\n",
    "from langchain_community.utilities import SQLDatabase\n",
    "from langchain_community.tools.sql_database.tool import QuerySQLDataBaseTool\n",
    "from langchain.chains import create_sql_query_chain\n",
    "from operator import itemgetter\n",
    "from langchain_core.output_parsers import StrOutputParser\n",
    "from langchain_core.prompts import PromptTemplate\n",
    "from langchain_core.runnables import RunnablePassthrough\n",
    "import os\n",
    "from langchain_openai import ChatOpenAI\n",
    "os.environ[\"OPENAI_API_KEY\"] = 'SET_YOUR_KEY'"
   ]
  },
  {
   "cell_type": "code",
   "execution_count": 3,
   "metadata": {},
   "outputs": [],
   "source": [
    "MODEL = 'gpt-3.5-turbo'\n",
    "TEMP = 0.7\n",
    "llm = ChatOpenAI(model=MODEL, temperature=TEMP)"
   ]
  },
  {
   "cell_type": "code",
   "execution_count": 4,
   "metadata": {},
   "outputs": [],
   "source": [
    "def read_dataframe(path = \"data.csv\"):\n",
    "    df = pd.read_csv(path)\n",
    "    return df"
   ]
  },
  {
   "cell_type": "code",
   "execution_count": 5,
   "metadata": {},
   "outputs": [],
   "source": [
    "df = read_dataframe()"
   ]
  },
  {
   "cell_type": "code",
   "execution_count": 7,
   "metadata": {},
   "outputs": [
    {
     "name": "stdout",
     "output_type": "stream",
     "text": [
      "<class 'pandas.core.frame.DataFrame'>\n",
      "RangeIndex: 998 entries, 0 to 997\n",
      "Data columns (total 14 columns):\n",
      " #   Column            Non-Null Count  Dtype  \n",
      "---  ------            --------------  -----  \n",
      " 0   Serial Number     998 non-null    int64  \n",
      " 1   List Year         998 non-null    int64  \n",
      " 2   Date Recorded     998 non-null    object \n",
      " 3   Town              998 non-null    object \n",
      " 4   Address           998 non-null    object \n",
      " 5   Assessed Value    998 non-null    int64  \n",
      " 6   Sale Amount       998 non-null    int64  \n",
      " 7   Sales Ratio       998 non-null    float64\n",
      " 8   Property Type     998 non-null    object \n",
      " 9   Residential Type  893 non-null    object \n",
      " 10  Non Use Code      245 non-null    object \n",
      " 11  Assessor Remarks  219 non-null    object \n",
      " 12  OPM remarks       31 non-null     object \n",
      " 13  Location          998 non-null    object \n",
      "dtypes: float64(1), int64(4), object(9)\n",
      "memory usage: 109.3+ KB\n"
     ]
    }
   ],
   "source": [
    "df.info()"
   ]
  },
  {
   "cell_type": "code",
   "execution_count": 6,
   "metadata": {},
   "outputs": [
    {
     "data": {
      "text/html": [
       "<div>\n",
       "<style scoped>\n",
       "    .dataframe tbody tr th:only-of-type {\n",
       "        vertical-align: middle;\n",
       "    }\n",
       "\n",
       "    .dataframe tbody tr th {\n",
       "        vertical-align: top;\n",
       "    }\n",
       "\n",
       "    .dataframe thead th {\n",
       "        text-align: right;\n",
       "    }\n",
       "</style>\n",
       "<table border=\"1\" class=\"dataframe\">\n",
       "  <thead>\n",
       "    <tr style=\"text-align: right;\">\n",
       "      <th></th>\n",
       "      <th>Serial Number</th>\n",
       "      <th>List Year</th>\n",
       "      <th>Date Recorded</th>\n",
       "      <th>Town</th>\n",
       "      <th>Address</th>\n",
       "      <th>Assessed Value</th>\n",
       "      <th>Sale Amount</th>\n",
       "      <th>Sales Ratio</th>\n",
       "      <th>Property Type</th>\n",
       "      <th>Residential Type</th>\n",
       "      <th>Non Use Code</th>\n",
       "      <th>Assessor Remarks</th>\n",
       "      <th>OPM remarks</th>\n",
       "      <th>Location</th>\n",
       "    </tr>\n",
       "  </thead>\n",
       "  <tbody>\n",
       "    <tr>\n",
       "      <th>0</th>\n",
       "      <td>210002</td>\n",
       "      <td>2021</td>\n",
       "      <td>10/1/2021</td>\n",
       "      <td>Stonington</td>\n",
       "      <td>62 MOSS ST</td>\n",
       "      <td>136500</td>\n",
       "      <td>295000</td>\n",
       "      <td>0.462700</td>\n",
       "      <td>Residential</td>\n",
       "      <td>Single Family</td>\n",
       "      <td>NaN</td>\n",
       "      <td>NaN</td>\n",
       "      <td>NaN</td>\n",
       "      <td>POINT (-71.837214991 41.370295012)</td>\n",
       "    </tr>\n",
       "    <tr>\n",
       "      <th>1</th>\n",
       "      <td>210020</td>\n",
       "      <td>2021</td>\n",
       "      <td>10/27/2021</td>\n",
       "      <td>North Branford</td>\n",
       "      <td>2255 FOXON RD</td>\n",
       "      <td>115300</td>\n",
       "      <td>107822</td>\n",
       "      <td>1.069355</td>\n",
       "      <td>Residential</td>\n",
       "      <td>Single Family</td>\n",
       "      <td>14 - Foreclosure</td>\n",
       "      <td>NaN</td>\n",
       "      <td>NaN</td>\n",
       "      <td>POINT (-72.751903 41.338795988)</td>\n",
       "    </tr>\n",
       "    <tr>\n",
       "      <th>2</th>\n",
       "      <td>210821</td>\n",
       "      <td>2021</td>\n",
       "      <td>5/16/2022</td>\n",
       "      <td>New Haven</td>\n",
       "      <td>355 NEWHALL ST</td>\n",
       "      <td>132790</td>\n",
       "      <td>295000</td>\n",
       "      <td>0.450100</td>\n",
       "      <td>Residential</td>\n",
       "      <td>Three Family</td>\n",
       "      <td>NaN</td>\n",
       "      <td>NaN</td>\n",
       "      <td>NaN</td>\n",
       "      <td>POINT (-72.92691697 41.33352201)</td>\n",
       "    </tr>\n",
       "    <tr>\n",
       "      <th>3</th>\n",
       "      <td>21248</td>\n",
       "      <td>2021</td>\n",
       "      <td>9/16/2022</td>\n",
       "      <td>Oxford</td>\n",
       "      <td>30 OLD COUNTRY ROAD</td>\n",
       "      <td>313000</td>\n",
       "      <td>590000</td>\n",
       "      <td>0.530500</td>\n",
       "      <td>Residential</td>\n",
       "      <td>Single Family</td>\n",
       "      <td>NaN</td>\n",
       "      <td>NaN</td>\n",
       "      <td>NaN</td>\n",
       "      <td>POINT (-73.149303027 41.390997014)</td>\n",
       "    </tr>\n",
       "    <tr>\n",
       "      <th>4</th>\n",
       "      <td>2100975</td>\n",
       "      <td>2021</td>\n",
       "      <td>2/23/2022</td>\n",
       "      <td>Stamford</td>\n",
       "      <td>75 HENRY STREET</td>\n",
       "      <td>435930</td>\n",
       "      <td>1600000</td>\n",
       "      <td>0.272456</td>\n",
       "      <td>Apartments</td>\n",
       "      <td>NaN</td>\n",
       "      <td>25 - Other</td>\n",
       "      <td>ENTERPRISE ZONE</td>\n",
       "      <td>NaN</td>\n",
       "      <td>POINT (-73.541341989 41.044746)</td>\n",
       "    </tr>\n",
       "  </tbody>\n",
       "</table>\n",
       "</div>"
      ],
      "text/plain": [
       "   Serial Number  List Year Date Recorded            Town  \\\n",
       "0         210002       2021     10/1/2021      Stonington   \n",
       "1         210020       2021    10/27/2021  North Branford   \n",
       "2         210821       2021     5/16/2022       New Haven   \n",
       "3          21248       2021     9/16/2022          Oxford   \n",
       "4        2100975       2021     2/23/2022        Stamford   \n",
       "\n",
       "               Address  Assessed Value  Sale Amount  Sales Ratio  \\\n",
       "0           62 MOSS ST          136500       295000     0.462700   \n",
       "1        2255 FOXON RD          115300       107822     1.069355   \n",
       "2       355 NEWHALL ST          132790       295000     0.450100   \n",
       "3  30 OLD COUNTRY ROAD          313000       590000     0.530500   \n",
       "4      75 HENRY STREET          435930      1600000     0.272456   \n",
       "\n",
       "  Property Type Residential Type      Non Use Code Assessor Remarks  \\\n",
       "0   Residential    Single Family               NaN              NaN   \n",
       "1   Residential    Single Family  14 - Foreclosure              NaN   \n",
       "2   Residential     Three Family               NaN              NaN   \n",
       "3   Residential    Single Family               NaN              NaN   \n",
       "4    Apartments              NaN        25 - Other  ENTERPRISE ZONE   \n",
       "\n",
       "  OPM remarks                            Location  \n",
       "0         NaN  POINT (-71.837214991 41.370295012)  \n",
       "1         NaN     POINT (-72.751903 41.338795988)  \n",
       "2         NaN    POINT (-72.92691697 41.33352201)  \n",
       "3         NaN  POINT (-73.149303027 41.390997014)  \n",
       "4         NaN     POINT (-73.541341989 41.044746)  "
      ]
     },
     "execution_count": 6,
     "metadata": {},
     "output_type": "execute_result"
    }
   ],
   "source": [
    "df.head()"
   ]
  },
  {
   "cell_type": "code",
   "execution_count": 12,
   "metadata": {},
   "outputs": [
    {
     "data": {
      "text/plain": [
       "'sqlite:///real_estate_sales.db'"
      ]
     },
     "execution_count": 12,
     "metadata": {},
     "output_type": "execute_result"
    }
   ],
   "source": [
    "def create_save_sql_db(df, db_name='real_estate_sales', table_name='data'):\n",
    "    \"\"\"\n",
    "    Creates and saves a SQLite database from a DataFrame.\n",
    "\n",
    "    Parameters:\n",
    "    - df (DataFrame): The DataFrame containing the data to be saved into the database.\n",
    "    - db_name (str): The name of the SQLite database. Default is 'real_estate_sales'.\n",
    "    - table_name (str): The name of the table to be created in the database. Default is 'data'.\n",
    "\n",
    "    Returns:\n",
    "    - str: The URI (Uniform Resource Identifier) of the saved SQLite database.\n",
    "           This URI can be used to connect to the database using SQLAlchemy.\n",
    "    \"\"\"\n",
    "    import sqlite3\n",
    "\n",
    "    conn = sqlite3.connect(f'{db_name}.db')\n",
    "\n",
    "    df.to_sql(table_name, conn, if_exists='replace', index=False)\n",
    "\n",
    "    conn.commit()\n",
    "    conn.close()\n",
    "\n",
    "    return f\"sqlite:///{db_name}.db\"\n",
    "uri = create_save_sql_db(df)\n",
    "uri"
   ]
  },
  {
   "cell_type": "code",
   "execution_count": 49,
   "metadata": {},
   "outputs": [
    {
     "name": "stdout",
     "output_type": "stream",
     "text": [
      "CSV file successfully converted to SQLite database. DB Name: real_estate_sales - Table Name: data\n"
     ]
    }
   ],
   "source": []
  },
  {
   "cell_type": "code",
   "execution_count": 13,
   "metadata": {},
   "outputs": [],
   "source": [
    "def interact_with_database(uri):\n",
    "    \"\"\"\n",
    "    Interact with an SQLite database: print the dialect, usable table names, and run a sample query.\n",
    "\n",
    "    Parameters:\n",
    "    uri (str): The URI of the SQLite database.\n",
    "\n",
    "    Returns:\n",
    "    None\n",
    "    \"\"\"\n",
    "    # Create an SQLDatabase object from the given URI\n",
    "    db = SQLDatabase.from_uri(uri)\n",
    "    return db\n"
   ]
  },
  {
   "cell_type": "code",
   "execution_count": 14,
   "metadata": {},
   "outputs": [],
   "source": [
    "db = interact_with_database(uri)"
   ]
  },
  {
   "cell_type": "code",
   "execution_count": null,
   "metadata": {},
   "outputs": [],
   "source": [
    "question = \"Compare are the average sales amount in Portland and Orange when it comes to Residential plots\"\n",
    "main_question = {\"question\": question}\n"
   ]
  },
  {
   "cell_type": "code",
   "execution_count": 199,
   "metadata": {},
   "outputs": [
    {
     "data": {
      "text/plain": [
       "'SELECT \"Town\", AVG(\"Sale Amount\") AS \"Average Sale Amount\"\\nFROM data\\nWHERE \"Town\" IN (\\'Portland\\', \\'Orange\\') AND \"Property Type\" = \\'Residential\\'\\nGROUP BY \"Town\"'"
      ]
     },
     "execution_count": 199,
     "metadata": {},
     "output_type": "execute_result"
    }
   ],
   "source": [
    "sql_query_chain = create_sql_query_chain(llm, db)\n",
    "response = sql_query_chain.invoke(main_question)\n",
    "response"
   ]
  },
  {
   "cell_type": "code",
   "execution_count": 200,
   "metadata": {},
   "outputs": [
    {
     "data": {
      "text/plain": [
       "\"[('Orange', 492044.44444444444), ('Portland', 278007.22222222225)]\""
      ]
     },
     "execution_count": 200,
     "metadata": {},
     "output_type": "execute_result"
    }
   ],
   "source": [
    "execute_query = QuerySQLDataBaseTool(db=db)\n",
    "query_responce_chain = sql_query_chain | execute_query\n",
    "query_responce_chain.invoke(main_question)\n"
   ]
  },
  {
   "cell_type": "code",
   "execution_count": 196,
   "metadata": {},
   "outputs": [],
   "source": [
    "\n",
    "answer_prompt = PromptTemplate.from_template(\n",
    "    \"\"\"Given the following user question, context, corresponding SQL query, and SQL result, answer the user question.\n",
    "\n",
    "Question: {question}\n",
    "SQL Query: {query}\n",
    "SQL Result: {result}\n",
    "Answer: \"\"\"\n",
    ")\n",
    "\n",
    "answer_chain = answer_prompt | llm | StrOutputParser()\n",
    "chain = (\n",
    "    RunnablePassthrough.assign(query=sql_query_chain).assign(\n",
    "        result=itemgetter(\"query\") | execute_query\n",
    "    )\n",
    "    | answer_chain\n",
    ")\n",
    "\n"
   ]
  },
  {
   "cell_type": "code",
   "execution_count": 198,
   "metadata": {},
   "outputs": [
    {
     "data": {
      "text/plain": [
       "'The average sale amount for Residential plots in Orange is $492,044.44, while the average sale amount for Residential plots in Portland is $278,007.22. Orange has a higher average sale amount compared to Portland for Residential plots.'"
      ]
     },
     "execution_count": 198,
     "metadata": {},
     "output_type": "execute_result"
    }
   ],
   "source": [
    "question = \"Compare are the average sales amount in Portland and Orange when it comes to Residential plots\"\n",
    "main_question = {\"question\": question}\n",
    "chain.invoke(main_question)\n"
   ]
  },
  {
   "cell_type": "code",
   "execution_count": null,
   "metadata": {},
   "outputs": [],
   "source": []
  }
 ],
 "metadata": {
  "kernelspec": {
   "display_name": "fridayPOC",
   "language": "python",
   "name": "python3"
  },
  "language_info": {
   "codemirror_mode": {
    "name": "ipython",
    "version": 3
   },
   "file_extension": ".py",
   "mimetype": "text/x-python",
   "name": "python",
   "nbconvert_exporter": "python",
   "pygments_lexer": "ipython3",
   "version": "3.11.9"
  }
 },
 "nbformat": 4,
 "nbformat_minor": 2
}
